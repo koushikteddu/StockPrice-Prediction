{
  "nbformat": 4,
  "nbformat_minor": 0,
  "metadata": {
    "colab": {
      "provenance": [],
      "authorship_tag": "ABX9TyNPcTX6Q8EZNB/dUiO65p9e",
      "include_colab_link": true
    },
    "kernelspec": {
      "name": "python3",
      "display_name": "Python 3"
    },
    "language_info": {
      "name": "python"
    }
  },
  "cells": [
    {
      "cell_type": "markdown",
      "metadata": {
        "id": "view-in-github",
        "colab_type": "text"
      },
      "source": [
        "<a href=\"https://colab.research.google.com/github/koushikteddu/StockPrice-Prediction/blob/main/ReinforcementLearning.ipynb\" target=\"_parent\"><img src=\"https://colab.research.google.com/assets/colab-badge.svg\" alt=\"Open In Colab\"/></a>"
      ]
    },
    {
      "cell_type": "code",
      "execution_count": 23,
      "metadata": {
        "colab": {
          "base_uri": "https://localhost:8080/"
        },
        "id": "981gW17v1kiu",
        "outputId": "cc2849b7-901d-485a-bfab-46949e58beff"
      },
      "outputs": [
        {
          "output_type": "stream",
          "name": "stdout",
          "text": [
            "Looking in indexes: https://pypi.org/simple, https://us-python.pkg.dev/colab-wheels/public/simple/\n",
            "Requirement already satisfied: gymnasium in /usr/local/lib/python3.8/dist-packages (0.27.1)\n",
            "Requirement already satisfied: numpy>=1.21.0 in /usr/local/lib/python3.8/dist-packages (from gymnasium) (1.21.6)\n",
            "Requirement already satisfied: importlib-metadata>=4.8.0 in /usr/local/lib/python3.8/dist-packages (from gymnasium) (6.0.0)\n",
            "Requirement already satisfied: gymnasium-notices>=0.0.1 in /usr/local/lib/python3.8/dist-packages (from gymnasium) (0.0.1)\n",
            "Requirement already satisfied: typing-extensions>=4.3.0 in /usr/local/lib/python3.8/dist-packages (from gymnasium) (4.4.0)\n",
            "Requirement already satisfied: jax-jumpy>=0.2.0 in /usr/local/lib/python3.8/dist-packages (from gymnasium) (0.2.0)\n",
            "Requirement already satisfied: cloudpickle>=1.2.0 in /usr/local/lib/python3.8/dist-packages (from gymnasium) (2.2.1)\n",
            "Requirement already satisfied: zipp>=0.5 in /usr/local/lib/python3.8/dist-packages (from importlib-metadata>=4.8.0->gymnasium) (3.12.1)\n"
          ]
        }
      ],
      "source": [
        "from google.colab import widgets\n",
        "!pip install gymnasium\n",
        "import gymnasium\n",
        "import gymnasium as gym\n",
        "from gymnasium import spaces\n",
        "import matplotlib.pyplot as plt\n",
        "import numpy as np\n",
        "import time"
      ]
    },
    {
      "cell_type": "code",
      "source": [
        "output_grid = widgets.Grid(1, 1)\n",
        "for _ in range(5):\n",
        "  grid = np.zeros((5, 5))\n",
        "  grid[np.random.randint(5), np.random.randint(5)] = 1\n",
        "\n",
        "  with output_grid.output_to(0, 0):\n",
        "    output_grid.clear_cell()\n",
        "    plt.imshow(grid)\n",
        "  time.sleep(1)"
      ],
      "metadata": {
        "colab": {
          "base_uri": "https://localhost:8080/",
          "height": 269
        },
        "id": "-WDAVZjV4BPk",
        "outputId": "06c0e7d1-78f8-4929-9a1a-6454f1f1487c"
      },
      "execution_count": 24,
      "outputs": [
        {
          "output_type": "display_data",
          "data": {
            "text/plain": [
              "<IPython.core.display.HTML object>"
            ],
            "text/html": [
              "<style>\n",
              "       table#id36, #id36 > tbody > tr > th, #id36 > tbody > tr > td {\n",
              "         border: 1px solid lightgray;\n",
              "         border-collapse:collapse;\n",
              "         \n",
              "        }</style>"
            ]
          },
          "metadata": {}
        },
        {
          "output_type": "display_data",
          "data": {
            "text/plain": [
              "<IPython.core.display.HTML object>"
            ],
            "text/html": [
              "<table id=id36><tr><td id=id36-0-0></td></tr></table>"
            ]
          },
          "metadata": {}
        },
        {
          "output_type": "display_data",
          "data": {
            "text/plain": [
              "<IPython.core.display.Javascript object>"
            ],
            "application/javascript": [
              "window[\"d4dfac3e-ae54-11ed-95e2-0242ac1c000c\"] = google.colab.output.getActiveOutputArea();\n",
              "//# sourceURL=js_85b72a85f8"
            ]
          },
          "metadata": {}
        },
        {
          "output_type": "display_data",
          "data": {
            "text/plain": [
              "<IPython.core.display.Javascript object>"
            ],
            "application/javascript": [
              "window[\"d4e06a52-ae54-11ed-95e2-0242ac1c000c\"] = document.querySelector(\"#id36-0-0\");\n",
              "//# sourceURL=js_7fab2bbc58"
            ]
          },
          "metadata": {}
        },
        {
          "output_type": "display_data",
          "data": {
            "text/plain": [
              "<IPython.core.display.Javascript object>"
            ],
            "application/javascript": [
              "window[\"d4e0da28-ae54-11ed-95e2-0242ac1c000c\"] = google.colab.output.setActiveOutputArea(window[\"d4e06a52-ae54-11ed-95e2-0242ac1c000c\"]);\n",
              "//# sourceURL=js_d38cb59520"
            ]
          },
          "metadata": {}
        },
        {
          "output_type": "display_data",
          "data": {
            "text/plain": [
              "<IPython.core.display.Javascript object>"
            ],
            "application/javascript": [
              "window[\"d509cb86-ae54-11ed-95e2-0242ac1c000c\"] = google.colab.output.setActiveOutputArea(window[\"d4dfac3e-ae54-11ed-95e2-0242ac1c000c\"]);\n",
              "//# sourceURL=js_a6b10e1a18"
            ]
          },
          "metadata": {}
        },
        {
          "output_type": "display_data",
          "data": {
            "text/plain": [
              "<IPython.core.display.Javascript object>"
            ],
            "application/javascript": [
              "window[\"d5a503f8-ae54-11ed-95e2-0242ac1c000c\"] = google.colab.output.getActiveOutputArea();\n",
              "//# sourceURL=js_5e669d734f"
            ]
          },
          "metadata": {}
        },
        {
          "output_type": "display_data",
          "data": {
            "text/plain": [
              "<IPython.core.display.Javascript object>"
            ],
            "application/javascript": [
              "window[\"d5a56168-ae54-11ed-95e2-0242ac1c000c\"] = document.querySelector(\"#id36-0-0\");\n",
              "//# sourceURL=js_63114b14bd"
            ]
          },
          "metadata": {}
        },
        {
          "output_type": "display_data",
          "data": {
            "text/plain": [
              "<IPython.core.display.Javascript object>"
            ],
            "application/javascript": [
              "window[\"d5a5d9ea-ae54-11ed-95e2-0242ac1c000c\"] = google.colab.output.setActiveOutputArea(window[\"d5a56168-ae54-11ed-95e2-0242ac1c000c\"]);\n",
              "//# sourceURL=js_d7f952d87d"
            ]
          },
          "metadata": {}
        },
        {
          "output_type": "display_data",
          "data": {
            "text/plain": [
              "<IPython.core.display.Javascript object>"
            ],
            "application/javascript": [
              "window[\"d5bd4328-ae54-11ed-95e2-0242ac1c000c\"] = google.colab.output.setActiveOutputArea(window[\"d5a503f8-ae54-11ed-95e2-0242ac1c000c\"]);\n",
              "//# sourceURL=js_c9cd63c66c"
            ]
          },
          "metadata": {}
        },
        {
          "output_type": "display_data",
          "data": {
            "text/plain": [
              "<IPython.core.display.Javascript object>"
            ],
            "application/javascript": [
              "window[\"d65839be-ae54-11ed-95e2-0242ac1c000c\"] = google.colab.output.getActiveOutputArea();\n",
              "//# sourceURL=js_7540c29edd"
            ]
          },
          "metadata": {}
        },
        {
          "output_type": "display_data",
          "data": {
            "text/plain": [
              "<IPython.core.display.Javascript object>"
            ],
            "application/javascript": [
              "window[\"d658f34a-ae54-11ed-95e2-0242ac1c000c\"] = document.querySelector(\"#id36-0-0\");\n",
              "//# sourceURL=js_2893820669"
            ]
          },
          "metadata": {}
        },
        {
          "output_type": "display_data",
          "data": {
            "text/plain": [
              "<IPython.core.display.Javascript object>"
            ],
            "application/javascript": [
              "window[\"d6595dee-ae54-11ed-95e2-0242ac1c000c\"] = google.colab.output.setActiveOutputArea(window[\"d658f34a-ae54-11ed-95e2-0242ac1c000c\"]);\n",
              "//# sourceURL=js_4e7d151c10"
            ]
          },
          "metadata": {}
        },
        {
          "output_type": "display_data",
          "data": {
            "text/plain": [
              "<IPython.core.display.Javascript object>"
            ],
            "application/javascript": [
              "window[\"d671f78c-ae54-11ed-95e2-0242ac1c000c\"] = google.colab.output.setActiveOutputArea(window[\"d65839be-ae54-11ed-95e2-0242ac1c000c\"]);\n",
              "//# sourceURL=js_f7c1d636de"
            ]
          },
          "metadata": {}
        },
        {
          "output_type": "display_data",
          "data": {
            "text/plain": [
              "<IPython.core.display.Javascript object>"
            ],
            "application/javascript": [
              "window[\"d70e7d3c-ae54-11ed-95e2-0242ac1c000c\"] = google.colab.output.getActiveOutputArea();\n",
              "//# sourceURL=js_30b351f4ed"
            ]
          },
          "metadata": {}
        },
        {
          "output_type": "display_data",
          "data": {
            "text/plain": [
              "<IPython.core.display.Javascript object>"
            ],
            "application/javascript": [
              "window[\"d7110b74-ae54-11ed-95e2-0242ac1c000c\"] = document.querySelector(\"#id36-0-0\");\n",
              "//# sourceURL=js_cfd5f78f16"
            ]
          },
          "metadata": {}
        },
        {
          "output_type": "display_data",
          "data": {
            "text/plain": [
              "<IPython.core.display.Javascript object>"
            ],
            "application/javascript": [
              "window[\"d7124e08-ae54-11ed-95e2-0242ac1c000c\"] = google.colab.output.setActiveOutputArea(window[\"d7110b74-ae54-11ed-95e2-0242ac1c000c\"]);\n",
              "//# sourceURL=js_ff0c127d1e"
            ]
          },
          "metadata": {}
        },
        {
          "output_type": "display_data",
          "data": {
            "text/plain": [
              "<IPython.core.display.Javascript object>"
            ],
            "application/javascript": [
              "window[\"d74809b2-ae54-11ed-95e2-0242ac1c000c\"] = google.colab.output.setActiveOutputArea(window[\"d70e7d3c-ae54-11ed-95e2-0242ac1c000c\"]);\n",
              "//# sourceURL=js_fd4a97dc5f"
            ]
          },
          "metadata": {}
        },
        {
          "output_type": "display_data",
          "data": {
            "text/plain": [
              "<IPython.core.display.Javascript object>"
            ],
            "application/javascript": [
              "window[\"d7e4e1f6-ae54-11ed-95e2-0242ac1c000c\"] = google.colab.output.getActiveOutputArea();\n",
              "//# sourceURL=js_ee13a1e897"
            ]
          },
          "metadata": {}
        },
        {
          "output_type": "display_data",
          "data": {
            "text/plain": [
              "<IPython.core.display.Javascript object>"
            ],
            "application/javascript": [
              "window[\"d7e61288-ae54-11ed-95e2-0242ac1c000c\"] = document.querySelector(\"#id36-0-0\");\n",
              "//# sourceURL=js_820925a31d"
            ]
          },
          "metadata": {}
        },
        {
          "output_type": "display_data",
          "data": {
            "text/plain": [
              "<IPython.core.display.Javascript object>"
            ],
            "application/javascript": [
              "window[\"d7e796b2-ae54-11ed-95e2-0242ac1c000c\"] = google.colab.output.setActiveOutputArea(window[\"d7e61288-ae54-11ed-95e2-0242ac1c000c\"]);\n",
              "//# sourceURL=js_114823a69b"
            ]
          },
          "metadata": {}
        },
        {
          "output_type": "display_data",
          "data": {
            "text/plain": [
              "<Figure size 432x288 with 1 Axes>"
            ],
            "image/png": "[encoded data removed]"
          },
          "metadata": {
            "needs_background": "light"
          }
        },
        {
          "output_type": "display_data",
          "data": {
            "text/plain": [
              "<IPython.core.display.Javascript object>"
            ],
            "application/javascript": [
              "window[\"d863dfc4-ae54-11ed-95e2-0242ac1c000c\"] = google.colab.output.setActiveOutputArea(window[\"d7e4e1f6-ae54-11ed-95e2-0242ac1c000c\"]);\n",
              "//# sourceURL=js_146c987fd6"
            ]
          },
          "metadata": {}
        }
      ]
    },
    {
      "cell_type": "code",
      "source": [
        "class GridEnvironment(gym.Env):\n",
        "    metadata = { 'render.modes': [] }\n",
        "    \n",
        "    def __init__(self):\n",
        "\n",
        "        self.observation_space = spaces.Discrete(25)\n",
        "        self.action_space = spaces.Discrete(4)\n",
        "        self.max_timesteps = 15\n",
        "\n",
        "        self.timestep = 0\n",
        "        self.agent_pos = [0, 0]\n",
        "        self.goal_pos = [4, 4]\n",
        "        self.state = np.zeros((5,5))\n",
        "        self.state[tuple(self.agent_pos)] = 1\n",
        "        self.state[tuple(self.goal_pos)] = 0.5\n",
        "\n",
        "        \n",
        "    def reset(self, **kwargs):\n",
        "\n",
        "        self.state = np.zeros((5,5))\n",
        "        self.state[tuple(self.agent_pos)] = 1\n",
        "        self.state[tuple(self.goal_pos)] = 0.5\n",
        "        observation = self.state.flatten()\n",
        "\n",
        "        info = {}\n",
        "\n",
        "        return observation, info\n",
        "    \n",
        "    def step(self, action):\n",
        "\n",
        "        prev_agent_pos = self.agent_pos\n",
        "        print(prev_agent_pos)\n",
        "\n",
        "        if action == 0:\n",
        "          self.agent_pos[0] += 1\n",
        "        if action == 1:\n",
        "          self.agent_pos[0] -= 1\n",
        "        if action == 2:\n",
        "          self.agent_pos[1] += 1\n",
        "        if action == 3:\n",
        "          self.agent_pos[1] -= 1\n",
        "        \n",
        "        if np.array_equal(self.agent_pos,np.asarray((2,1))):\n",
        "          self.agent_pos = prev_agent_pos\n",
        "        elif np.array_equal(self.agent_pos,np.asarray((3,2))):\n",
        "          self.agent_pos = prev_agent_pos\n",
        "        elif np.array_equal(self.agent_pos,np.asarray((1,2))):\n",
        "          self.agent_pos = [0, 0]\n",
        "        else:\n",
        "          pass\n",
        "        print(self.agent_pos)\n",
        "\n",
        "\n",
        "        # Comment this to demonstrate the truncation condition.\n",
        "        self.agent_pos = np.clip(self.agent_pos, 0, 4)\n",
        "\n",
        "        self.state = np.zeros((5,5))\n",
        "        self.state[tuple(self.agent_pos)] = 1\n",
        "        self.state[tuple(self.goal_pos)] = 0.5\n",
        "        observation = self.state.flatten()\n",
        "        \n",
        "        reward = 0\n",
        "        if np.array_equal(self.agent_pos, self.goal_pos):\n",
        "          reward = 10\n",
        "        elif np.array_equal(self.agent_pos, np.asarray((3,4))):\n",
        "          reward = 5\n",
        "        elif np.array_equal(self.agent_pos, np.asarray((4,3))):\n",
        "          reward = 5\n",
        "        elif np.array_equal(self.agent_pos, np.asarray((0,4))):\n",
        "          reward = 2\n",
        "        elif np.array_equal(self.agent_pos, np.asarray((4,0))):\n",
        "          reward = 2\n",
        "        elif np.array_equal(self.agent_pos, np.asarray((0,2))):\n",
        "          reward = 1\n",
        "        elif np.array_equal(self.agent_pos, np.asarray((2,0))):\n",
        "          reward = 1\n",
        "        elif np.array_equal(self.agent_pos, np.asarray((1,1))):\n",
        "          reward = -1\n",
        "        elif np.array_equal(self.agent_pos, np.asarray((1,3))):\n",
        "          reward = -1\n",
        "        \n",
        "\n",
        "\n",
        "        self.timestep += 1\n",
        "\n",
        "        terminated = True if self.timestep >= self.max_timesteps else False\n",
        "        truncated = True if np.all((self.agent_pos >=0 ) & (self.agent_pos <= 4)) else False\n",
        "\n",
        "        info = {}\n",
        "        \n",
        "        return observation, reward, terminated, truncated, info\n",
        "        \n",
        "    def render(self):\n",
        "        plt.imshow(self.state)"
      ],
      "metadata": {
        "id": "yoPLGerU4ZIE"
      },
      "execution_count": 42,
      "outputs": []
    },
    {
      "cell_type": "code",
      "source": [
        "class RandomAgent:\n",
        "  def __init__(self, env):\n",
        "    self.env = env\n",
        "    self.observation_space = env.observation_space\n",
        "    self.action_space = env.action_space\n",
        "\n",
        "  def step(self, obs):\n",
        "    return np.random.choice(self.action_space.n)"
      ],
      "metadata": {
        "id": "s7hE-bsqBgPR"
      },
      "execution_count": 43,
      "outputs": []
    },
    {
      "cell_type": "code",
      "source": [
        "env = GridEnvironment()\n",
        "agent = RandomAgent(env)\n",
        "\n",
        "obs, info = env.reset()\n",
        "terminated, truncated = False, False\n",
        "\n",
        "output_grid = widgets.Grid(1, 1)\n",
        "with output_grid.output_to(0, 0):\n",
        "  env.render()\n",
        "\n",
        "while not terminated:\n",
        "  action = agent.step(obs)\n",
        "  obs, reward, terminated, truncated, info = env.step(action)\n",
        "  with output_grid.output_to(0, 0):\n",
        "    env.render()\n",
        "    plt.show()\n",
        "  time.sleep(1)"
      ],
      "metadata": {
        "colab": {
          "base_uri": "https://localhost:8080/",
          "height": 1000
        },
        "id": "hWdctcsOBm26",
        "outputId": "46bf3858-61cc-46f2-8a3c-5b853f80092f"
      },
      "execution_count": 44,
      "outputs": [
        {
          "output_type": "display_data",
          "data": {
            "text/plain": [
              "<IPython.core.display.HTML object>"
            ],
            "text/html": [
              "<style>\n",
              "       table#id48, #id48 > tbody > tr > th, #id48 > tbody > tr > td {\n",
              "         border: 1px solid lightgray;\n",
              "         border-collapse:collapse;\n",
              "         \n",
              "        }</style>"
            ]
          },
          "metadata": {}
        },
        {
          "output_type": "display_data",
          "data": {
            "text/plain": [
              "<IPython.core.display.HTML object>"
            ],
            "text/html": [
              "<table id=id48><tr><td id=id48-0-0></td></tr></table>"
            ]
          },
          "metadata": {}
        },
        {
          "output_type": "display_data",
          "data": {
            "text/plain": [
              "<IPython.core.display.Javascript object>"
            ],
            "application/javascript": [
              "window[\"d9791ffe-ae55-11ed-95e2-0242ac1c000c\"] = google.colab.output.getActiveOutputArea();\n",
              "//# sourceURL=js_c872de30fe"
            ]
          },
          "metadata": {}
        },
        {
          "output_type": "display_data",
          "data": {
            "text/plain": [
              "<IPython.core.display.Javascript object>"
            ],
            "application/javascript": [
              "window[\"d979758a-ae55-11ed-95e2-0242ac1c000c\"] = document.querySelector(\"#id48-0-0\");\n",
              "//# sourceURL=js_f57e8dcc1e"
            ]
          },
          "metadata": {}
        },
        {
          "output_type": "display_data",
          "data": {
            "text/plain": [
              "<IPython.core.display.Javascript object>"
            ],
            "application/javascript": [
              "window[\"d97a64a4-ae55-11ed-95e2-0242ac1c000c\"] = google.colab.output.setActiveOutputArea(window[\"d979758a-ae55-11ed-95e2-0242ac1c000c\"]);\n",
              "//# sourceURL=js_9285818fac"
            ]
          },
          "metadata": {}
        },
        {
          "output_type": "display_data",
          "data": {
            "text/plain": [
              "<Figure size 432x288 with 1 Axes>"
            ],
            "image/png": "[encoded data removed]"
          },
          "metadata": {
            "needs_background": "light"
          }
        },
        {
          "output_type": "display_data",
          "data": {
            "text/plain": [
              "<IPython.core.display.Javascript object>"
            ],
            "application/javascript": [
              "window[\"d9a080ee-ae55-11ed-95e2-0242ac1c000c\"] = google.colab.output.setActiveOutputArea(window[\"d9791ffe-ae55-11ed-95e2-0242ac1c000c\"]);\n",
              "//# sourceURL=js_8c65d0c486"
            ]
          },
          "metadata": {}
        },
        {
          "output_type": "stream",
          "name": "stdout",
          "text": [
            "[0, 0]\n",
            "[0, 1]\n"
          ]
        },
        {
          "output_type": "display_data",
          "data": {
            "text/plain": [
              "<IPython.core.display.Javascript object>"
            ],
            "application/javascript": [
              "window[\"d9a3517a-ae55-11ed-95e2-0242ac1c000c\"] = google.colab.output.getActiveOutputArea();\n",
              "//# sourceURL=js_35b2705231"
            ]
          },
          "metadata": {}
        },
        {
          "output_type": "display_data",
          "data": {
            "text/plain": [
              "<IPython.core.display.Javascript object>"
            ],
            "application/javascript": [
              "window[\"d9a3a3a0-ae55-11ed-95e2-0242ac1c000c\"] = document.querySelector(\"#id48-0-0\");\n",
              "//# sourceURL=js_475b00c072"
            ]
          },
          "metadata": {}
        },
        {
          "output_type": "display_data",
          "data": {
            "text/plain": [
              "<IPython.core.display.Javascript object>"
            ],
            "application/javascript": [
              "window[\"d9a3f17a-ae55-11ed-95e2-0242ac1c000c\"] = google.colab.output.setActiveOutputArea(window[\"d9a3a3a0-ae55-11ed-95e2-0242ac1c000c\"]);\n",
              "//# sourceURL=js_e540a74364"
            ]
          },
          "metadata": {}
        },
        {
          "output_type": "display_data",
          "data": {
            "text/plain": [
              "<Figure size 432x288 with 1 Axes>"
            ],
            "image/png": "[encoded data removed]"
          },
          "metadata": {
            "needs_background": "light"
          }
        },
        {
          "output_type": "display_data",
          "data": {
            "text/plain": [
              "<IPython.core.display.Javascript object>"
            ],
            "application/javascript": [
              "window[\"d9c75a98-ae55-11ed-95e2-0242ac1c000c\"] = google.colab.output.setActiveOutputArea(window[\"d9a3517a-ae55-11ed-95e2-0242ac1c000c\"]);\n",
              "//# sourceURL=js_d166dc7290"
            ]
          },
          "metadata": {}
        },
        {
          "output_type": "stream",
          "name": "stdout",
          "text": [
            "[0 1]\n",
            "[-1  1]\n"
          ]
        },
        {
          "output_type": "display_data",
          "data": {
            "text/plain": [
              "<IPython.core.display.Javascript object>"
            ],
            "application/javascript": [
              "window[\"da62b650-ae55-11ed-95e2-0242ac1c000c\"] = google.colab.output.getActiveOutputArea();\n",
              "//# sourceURL=js_deb06ac872"
            ]
          },
          "metadata": {}
        },
        {
          "output_type": "display_data",
          "data": {
            "text/plain": [
              "<IPython.core.display.Javascript object>"
            ],
            "application/javascript": [
              "window[\"da630aec-ae55-11ed-95e2-0242ac1c000c\"] = document.querySelector(\"#id48-0-0\");\n",
              "//# sourceURL=js_915067e938"
            ]
          },
          "metadata": {}
        },
        {
          "output_type": "display_data",
          "data": {
            "text/plain": [
              "<IPython.core.display.Javascript object>"
            ],
            "application/javascript": [
              "window[\"da635736-ae55-11ed-95e2-0242ac1c000c\"] = google.colab.output.setActiveOutputArea(window[\"da630aec-ae55-11ed-95e2-0242ac1c000c\"]);\n",
              "//# sourceURL=js_62056a8737"
            ]
          },
          "metadata": {}
        },
        {
          "output_type": "display_data",
          "data": {
            "text/plain": [
              "<Figure size 432x288 with 1 Axes>"
            ],
            "image/png": "[encoded data removed]"
          },
          "metadata": {
            "needs_background": "light"
          }
        },
        {
          "output_type": "display_data",
          "data": {
            "text/plain": [
              "<IPython.core.display.Javascript object>"
            ],
            "application/javascript": [
              "window[\"da86e21e-ae55-11ed-95e2-0242ac1c000c\"] = google.colab.output.setActiveOutputArea(window[\"da62b650-ae55-11ed-95e2-0242ac1c000c\"]);\n",
              "//# sourceURL=js_79209cd95d"
            ]
          },
          "metadata": {}
        },
        {
          "output_type": "stream",
          "name": "stdout",
          "text": [
            "[0 1]\n",
            "[1 1]\n"
          ]
        },
        {
          "output_type": "display_data",
          "data": {
            "text/plain": [
              "<IPython.core.display.Javascript object>"
            ],
            "application/javascript": [
              "window[\"db233060-ae55-11ed-95e2-0242ac1c000c\"] = google.colab.output.getActiveOutputArea();\n",
              "//# sourceURL=js_0f3ad5d6d0"
            ]
          },
          "metadata": {}
        },
        {
          "output_type": "display_data",
          "data": {
            "text/plain": [
              "<IPython.core.display.Javascript object>"
            ],
            "application/javascript": [
              "window[\"db23e44c-ae55-11ed-95e2-0242ac1c000c\"] = document.querySelector(\"#id48-0-0\");\n",
              "//# sourceURL=js_5a03c41fc8"
            ]
          },
          "metadata": {}
        },
        {
          "output_type": "display_data",
          "data": {
            "text/plain": [
              "<IPython.core.display.Javascript object>"
            ],
            "application/javascript": [
              "window[\"db2449a0-ae55-11ed-95e2-0242ac1c000c\"] = google.colab.output.setActiveOutputArea(window[\"db23e44c-ae55-11ed-95e2-0242ac1c000c\"]);\n",
              "//# sourceURL=js_f4a010ddbd"
            ]
          },
          "metadata": {}
        },
        {
          "output_type": "display_data",
          "data": {
            "text/plain": [
              "<Figure size 432x288 with 1 Axes>"
            ],
            "image/png": "[encoded data removed]"
          },
          "metadata": {
            "needs_background": "light"
          }
        },
        {
          "output_type": "display_data",
          "data": {
            "text/plain": [
              "<IPython.core.display.Javascript object>"
            ],
            "application/javascript": [
              "window[\"db39b40c-ae55-11ed-95e2-0242ac1c000c\"] = google.colab.output.setActiveOutputArea(window[\"db233060-ae55-11ed-95e2-0242ac1c000c\"]);\n",
              "//# sourceURL=js_cb52af9e0d"
            ]
          },
          "metadata": {}
        },
        {
          "output_type": "stream",
          "name": "stdout",
          "text": [
            "[1 1]\n",
            "[1 0]\n"
          ]
        },
        {
          "output_type": "display_data",
          "data": {
            "text/plain": [
              "<IPython.core.display.Javascript object>"
            ],
            "application/javascript": [
              "window[\"dbd52144-ae55-11ed-95e2-0242ac1c000c\"] = google.colab.output.getActiveOutputArea();\n",
              "//# sourceURL=js_ba7973a85d"
            ]
          },
          "metadata": {}
        },
        {
          "output_type": "display_data",
          "data": {
            "text/plain": [
              "<IPython.core.display.Javascript object>"
            ],
            "application/javascript": [
              "window[\"dbd571d0-ae55-11ed-95e2-0242ac1c000c\"] = document.querySelector(\"#id48-0-0\");\n",
              "//# sourceURL=js_f7691f80a5"
            ]
          },
          "metadata": {}
        },
        {
          "output_type": "display_data",
          "data": {
            "text/plain": [
              "<IPython.core.display.Javascript object>"
            ],
            "application/javascript": [
              "window[\"dbd61306-ae55-11ed-95e2-0242ac1c000c\"] = google.colab.output.setActiveOutputArea(window[\"dbd571d0-ae55-11ed-95e2-0242ac1c000c\"]);\n",
              "//# sourceURL=js_0765f140f8"
            ]
          },
          "metadata": {}
        },
        {
          "output_type": "display_data",
          "data": {
            "text/plain": [
              "<Figure size 432x288 with 1 Axes>"
            ],
            "image/png": "[encoded data removed]"
          },
          "metadata": {
            "needs_background": "light"
          }
        },
        {
          "output_type": "display_data",
          "data": {
            "text/plain": [
              "<IPython.core.display.Javascript object>"
            ],
            "application/javascript": [
              "window[\"dbee1550-ae55-11ed-95e2-0242ac1c000c\"] = google.colab.output.setActiveOutputArea(window[\"dbd52144-ae55-11ed-95e2-0242ac1c000c\"]);\n",
              "//# sourceURL=js_657bb87aae"
            ]
          },
          "metadata": {}
        },
        {
          "output_type": "stream",
          "name": "stdout",
          "text": [
            "[1 0]\n",
            "[ 1 -1]\n"
          ]
        },
        {
          "output_type": "display_data",
          "data": {
            "text/plain": [
              "<IPython.core.display.Javascript object>"
            ],
            "application/javascript": [
              "window[\"dc89fb1e-ae55-11ed-95e2-0242ac1c000c\"] = google.colab.output.getActiveOutputArea();\n",
              "//# sourceURL=js_aa418f7e70"
            ]
          },
          "metadata": {}
        },
        {
          "output_type": "display_data",
          "data": {
            "text/plain": [
              "<IPython.core.display.Javascript object>"
            ],
            "application/javascript": [
              "window[\"dc8a6e82-ae55-11ed-95e2-0242ac1c000c\"] = document.querySelector(\"#id48-0-0\");\n",
              "//# sourceURL=js_973e67a4cd"
            ]
          },
          "metadata": {}
        },
        {
          "output_type": "display_data",
          "data": {
            "text/plain": [
              "<IPython.core.display.Javascript object>"
            ],
            "application/javascript": [
              "window[\"dc8ad106-ae55-11ed-95e2-0242ac1c000c\"] = google.colab.output.setActiveOutputArea(window[\"dc8a6e82-ae55-11ed-95e2-0242ac1c000c\"]);\n",
              "//# sourceURL=js_d800aaa831"
            ]
          },
          "metadata": {}
        },
        {
          "output_type": "display_data",
          "data": {
            "text/plain": [
              "<Figure size 432x288 with 1 Axes>"
            ],
            "image/png": "[encoded data removed]"
          },
          "metadata": {
            "needs_background": "light"
          }
        },
        {
          "output_type": "display_data",
          "data": {
            "text/plain": [
              "<IPython.core.display.Javascript object>"
            ],
            "application/javascript": [
              "window[\"dc9fd632-ae55-11ed-95e2-0242ac1c000c\"] = google.colab.output.setActiveOutputArea(window[\"dc89fb1e-ae55-11ed-95e2-0242ac1c000c\"]);\n",
              "//# sourceURL=js_e9688556ac"
            ]
          },
          "metadata": {}
        },
        {
          "output_type": "stream",
          "name": "stdout",
          "text": [
            "[1 0]\n",
            "[0 0]\n"
          ]
        },
        {
          "output_type": "display_data",
          "data": {
            "text/plain": [
              "<IPython.core.display.Javascript object>"
            ],
            "application/javascript": [
              "window[\"dd3ba756-ae55-11ed-95e2-0242ac1c000c\"] = google.colab.output.getActiveOutputArea();\n",
              "//# sourceURL=js_f8bdebbe64"
            ]
          },
          "metadata": {}
        },
        {
          "output_type": "display_data",
          "data": {
            "text/plain": [
              "<IPython.core.display.Javascript object>"
            ],
            "application/javascript": [
              "window[\"dd3c2884-ae55-11ed-95e2-0242ac1c000c\"] = document.querySelector(\"#id48-0-0\");\n",
              "//# sourceURL=js_10646ecac6"
            ]
          },
          "metadata": {}
        },
        {
          "output_type": "display_data",
          "data": {
            "text/plain": [
              "<IPython.core.display.Javascript object>"
            ],
            "application/javascript": [
              "window[\"dd3c9152-ae55-11ed-95e2-0242ac1c000c\"] = google.colab.output.setActiveOutputArea(window[\"dd3c2884-ae55-11ed-95e2-0242ac1c000c\"]);\n",
              "//# sourceURL=js_02fdb50bf1"
            ]
          },
          "metadata": {}
        },
        {
          "output_type": "display_data",
          "data": {
            "text/plain": [
              "<Figure size 432x288 with 1 Axes>"
            ],
            "image/png": "[encoded data removed]"
          },
          "metadata": {
            "needs_background": "light"
          }
        },
        {
          "output_type": "display_data",
          "data": {
            "text/plain": [
              "<IPython.core.display.Javascript object>"
            ],
            "application/javascript": [
              "window[\"dd5696d8-ae55-11ed-95e2-0242ac1c000c\"] = google.colab.output.setActiveOutputArea(window[\"dd3ba756-ae55-11ed-95e2-0242ac1c000c\"]);\n",
              "//# sourceURL=js_4300da4e2d"
            ]
          },
          "metadata": {}
        },
        {
          "output_type": "stream",
          "name": "stdout",
          "text": [
            "[0 0]\n",
            "[-1  0]\n"
          ]
        },
        {
          "output_type": "display_data",
          "data": {
            "text/plain": [
              "<IPython.core.display.Javascript object>"
            ],
            "application/javascript": [
              "window[\"ddf1e282-ae55-11ed-95e2-0242ac1c000c\"] = google.colab.output.getActiveOutputArea();\n",
              "//# sourceURL=js_91bee7f479"
            ]
          },
          "metadata": {}
        },
        {
          "output_type": "display_data",
          "data": {
            "text/plain": [
              "<IPython.core.display.Javascript object>"
            ],
            "application/javascript": [
              "window[\"ddf2614e-ae55-11ed-95e2-0242ac1c000c\"] = document.querySelector(\"#id48-0-0\");\n",
              "//# sourceURL=js_ebca591d77"
            ]
          },
          "metadata": {}
        },
        {
          "output_type": "display_data",
          "data": {
            "text/plain": [
              "<IPython.core.display.Javascript object>"
            ],
            "application/javascript": [
              "window[\"ddf2b0b8-ae55-11ed-95e2-0242ac1c000c\"] = google.colab.output.setActiveOutputArea(window[\"ddf2614e-ae55-11ed-95e2-0242ac1c000c\"]);\n",
              "//# sourceURL=js_a314a5c5ba"
            ]
          },
          "metadata": {}
        },
        {
          "output_type": "display_data",
          "data": {
            "text/plain": [
              "<Figure size 432x288 with 1 Axes>"
            ],
            "image/png": "[encoded data removed]"
          },
          "metadata": {
            "needs_background": "light"
          }
        },
        {
          "output_type": "display_data",
          "data": {
            "text/plain": [
              "<IPython.core.display.Javascript object>"
            ],
            "application/javascript": [
              "window[\"de0aa9a2-ae55-11ed-95e2-0242ac1c000c\"] = google.colab.output.setActiveOutputArea(window[\"ddf1e282-ae55-11ed-95e2-0242ac1c000c\"]);\n",
              "//# sourceURL=js_9888cd55e2"
            ]
          },
          "metadata": {}
        },
        {
          "output_type": "stream",
          "name": "stdout",
          "text": [
            "[0 0]\n",
            "[ 0 -1]\n"
          ]
        },
        {
          "output_type": "display_data",
          "data": {
            "text/plain": [
              "<IPython.core.display.Javascript object>"
            ],
            "application/javascript": [
              "window[\"dea5ff06-ae55-11ed-95e2-0242ac1c000c\"] = google.colab.output.getActiveOutputArea();\n",
              "//# sourceURL=js_5a7920ba4b"
            ]
          },
          "metadata": {}
        },
        {
          "output_type": "display_data",
          "data": {
            "text/plain": [
              "<IPython.core.display.Javascript object>"
            ],
            "application/javascript": [
              "window[\"dea6682e-ae55-11ed-95e2-0242ac1c000c\"] = document.querySelector(\"#id48-0-0\");\n",
              "//# sourceURL=js_2cdeb346a5"
            ]
          },
          "metadata": {}
        },
        {
          "output_type": "display_data",
          "data": {
            "text/plain": [
              "<IPython.core.display.Javascript object>"
            ],
            "application/javascript": [
              "window[\"dea6c738-ae55-11ed-95e2-0242ac1c000c\"] = google.colab.output.setActiveOutputArea(window[\"dea6682e-ae55-11ed-95e2-0242ac1c000c\"]);\n",
              "//# sourceURL=js_160b443463"
            ]
          },
          "metadata": {}
        },
        {
          "output_type": "display_data",
          "data": {
            "text/plain": [
              "<Figure size 432x288 with 1 Axes>"
            ],
            "image/png": "[encoded data removed]"
          },
          "metadata": {
            "needs_background": "light"
          }
        },
        {
          "output_type": "display_data",
          "data": {
            "text/plain": [
              "<IPython.core.display.Javascript object>"
            ],
            "application/javascript": [
              "window[\"debd20d2-ae55-11ed-95e2-0242ac1c000c\"] = google.colab.output.setActiveOutputArea(window[\"dea5ff06-ae55-11ed-95e2-0242ac1c000c\"]);\n",
              "//# sourceURL=js_c12bf89592"
            ]
          },
          "metadata": {}
        },
        {
          "output_type": "stream",
          "name": "stdout",
          "text": [
            "[0 0]\n",
            "[1 0]\n"
          ]
        },
        {
          "output_type": "display_data",
          "data": {
            "text/plain": [
              "<IPython.core.display.Javascript object>"
            ],
            "application/javascript": [
              "window[\"df58f5e8-ae55-11ed-95e2-0242ac1c000c\"] = google.colab.output.getActiveOutputArea();\n",
              "//# sourceURL=js_f1fbd8b990"
            ]
          },
          "metadata": {}
        },
        {
          "output_type": "display_data",
          "data": {
            "text/plain": [
              "<IPython.core.display.Javascript object>"
            ],
            "application/javascript": [
              "window[\"df594eb2-ae55-11ed-95e2-0242ac1c000c\"] = document.querySelector(\"#id48-0-0\");\n",
              "//# sourceURL=js_2da35d5fc8"
            ]
          },
          "metadata": {}
        },
        {
          "output_type": "display_data",
          "data": {
            "text/plain": [
              "<IPython.core.display.Javascript object>"
            ],
            "application/javascript": [
              "window[\"df59af38-ae55-11ed-95e2-0242ac1c000c\"] = google.colab.output.setActiveOutputArea(window[\"df594eb2-ae55-11ed-95e2-0242ac1c000c\"]);\n",
              "//# sourceURL=js_19530c6fbb"
            ]
          },
          "metadata": {}
        },
        {
          "output_type": "display_data",
          "data": {
            "text/plain": [
              "<Figure size 432x288 with 1 Axes>"
            ],
            "image/png": "[encoded data removed]"
          },
          "metadata": {
            "needs_background": "light"
          }
        },
        {
          "output_type": "display_data",
          "data": {
            "text/plain": [
              "<IPython.core.display.Javascript object>"
            ],
            "application/javascript": [
              "window[\"df7035a0-ae55-11ed-95e2-0242ac1c000c\"] = google.colab.output.setActiveOutputArea(window[\"df58f5e8-ae55-11ed-95e2-0242ac1c000c\"]);\n",
              "//# sourceURL=js_ae942735e5"
            ]
          },
          "metadata": {}
        },
        {
          "output_type": "stream",
          "name": "stdout",
          "text": [
            "[1 0]\n",
            "[1 1]\n"
          ]
        },
        {
          "output_type": "display_data",
          "data": {
            "text/plain": [
              "<IPython.core.display.Javascript object>"
            ],
            "application/javascript": [
              "window[\"e00c89f0-ae55-11ed-95e2-0242ac1c000c\"] = google.colab.output.getActiveOutputArea();\n",
              "//# sourceURL=js_238bc79bda"
            ]
          },
          "metadata": {}
        },
        {
          "output_type": "display_data",
          "data": {
            "text/plain": [
              "<IPython.core.display.Javascript object>"
            ],
            "application/javascript": [
              "window[\"e00cfc46-ae55-11ed-95e2-0242ac1c000c\"] = document.querySelector(\"#id48-0-0\");\n",
              "//# sourceURL=js_3221b0b76f"
            ]
          },
          "metadata": {}
        },
        {
          "output_type": "display_data",
          "data": {
            "text/plain": [
              "<IPython.core.display.Javascript object>"
            ],
            "application/javascript": [
              "window[\"e00d704a-ae55-11ed-95e2-0242ac1c000c\"] = google.colab.output.setActiveOutputArea(window[\"e00cfc46-ae55-11ed-95e2-0242ac1c000c\"]);\n",
              "//# sourceURL=js_ab6fa3d1b6"
            ]
          },
          "metadata": {}
        },
        {
          "output_type": "display_data",
          "data": {
            "text/plain": [
              "<Figure size 432x288 with 1 Axes>"
            ],
            "image/png": "[encoded data removed]"
          },
          "metadata": {
            "needs_background": "light"
          }
        },
        {
          "output_type": "display_data",
          "data": {
            "text/plain": [
              "<IPython.core.display.Javascript object>"
            ],
            "application/javascript": [
              "window[\"e0229f7e-ae55-11ed-95e2-0242ac1c000c\"] = google.colab.output.setActiveOutputArea(window[\"e00c89f0-ae55-11ed-95e2-0242ac1c000c\"]);\n",
              "//# sourceURL=js_9d013ea1df"
            ]
          },
          "metadata": {}
        },
        {
          "output_type": "stream",
          "name": "stdout",
          "text": [
            "[1 1]\n",
            "[2 1]\n"
          ]
        },
        {
          "output_type": "display_data",
          "data": {
            "text/plain": [
              "<IPython.core.display.Javascript object>"
            ],
            "application/javascript": [
              "window[\"e0bdef38-ae55-11ed-95e2-0242ac1c000c\"] = google.colab.output.getActiveOutputArea();\n",
              "//# sourceURL=js_9543c81b16"
            ]
          },
          "metadata": {}
        },
        {
          "output_type": "display_data",
          "data": {
            "text/plain": [
              "<IPython.core.display.Javascript object>"
            ],
            "application/javascript": [
              "window[\"e0bec142-ae55-11ed-95e2-0242ac1c000c\"] = document.querySelector(\"#id48-0-0\");\n",
              "//# sourceURL=js_39d4d9f604"
            ]
          },
          "metadata": {}
        },
        {
          "output_type": "display_data",
          "data": {
            "text/plain": [
              "<IPython.core.display.Javascript object>"
            ],
            "application/javascript": [
              "window[\"e0bf176e-ae55-11ed-95e2-0242ac1c000c\"] = google.colab.output.setActiveOutputArea(window[\"e0bec142-ae55-11ed-95e2-0242ac1c000c\"]);\n",
              "//# sourceURL=js_8d7595619a"
            ]
          },
          "metadata": {}
        },
        {
          "output_type": "display_data",
          "data": {
            "text/plain": [
              "<Figure size 432x288 with 1 Axes>"
            ],
            "image/png": "[encoded data removed]"
          },
          "metadata": {
            "needs_background": "light"
          }
        },
        {
          "output_type": "display_data",
          "data": {
            "text/plain": [
              "<IPython.core.display.Javascript object>"
            ],
            "application/javascript": [
              "window[\"e0e132a4-ae55-11ed-95e2-0242ac1c000c\"] = google.colab.output.setActiveOutputArea(window[\"e0bdef38-ae55-11ed-95e2-0242ac1c000c\"]);\n",
              "//# sourceURL=js_3e91d3f743"
            ]
          },
          "metadata": {}
        },
        {
          "output_type": "stream",
          "name": "stdout",
          "text": [
            "[2 1]\n",
            "[3 1]\n"
          ]
        },
        {
          "output_type": "display_data",
          "data": {
            "text/plain": [
              "<IPython.core.display.Javascript object>"
            ],
            "application/javascript": [
              "window[\"e17ccc28-ae55-11ed-95e2-0242ac1c000c\"] = google.colab.output.getActiveOutputArea();\n",
              "//# sourceURL=js_8215a86d19"
            ]
          },
          "metadata": {}
        },
        {
          "output_type": "display_data",
          "data": {
            "text/plain": [
              "<IPython.core.display.Javascript object>"
            ],
            "application/javascript": [
              "window[\"e17db9d0-ae55-11ed-95e2-0242ac1c000c\"] = document.querySelector(\"#id48-0-0\");\n",
              "//# sourceURL=js_e68626287d"
            ]
          },
          "metadata": {}
        },
        {
          "output_type": "display_data",
          "data": {
            "text/plain": [
              "<IPython.core.display.Javascript object>"
            ],
            "application/javascript": [
              "window[\"e17e10f6-ae55-11ed-95e2-0242ac1c000c\"] = google.colab.output.setActiveOutputArea(window[\"e17db9d0-ae55-11ed-95e2-0242ac1c000c\"]);\n",
              "//# sourceURL=js_31b72759c0"
            ]
          },
          "metadata": {}
        },
        {
          "output_type": "display_data",
          "data": {
            "text/plain": [
              "<Figure size 432x288 with 1 Axes>"
            ],
            "image/png": "[encoded data removed]"
          },
          "metadata": {
            "needs_background": "light"
          }
        },
        {
          "output_type": "display_data",
          "data": {
            "text/plain": [
              "<IPython.core.display.Javascript object>"
            ],
            "application/javascript": [
              "window[\"e1a3285a-ae55-11ed-95e2-0242ac1c000c\"] = google.colab.output.setActiveOutputArea(window[\"e17ccc28-ae55-11ed-95e2-0242ac1c000c\"]);\n",
              "//# sourceURL=js_3497666e8e"
            ]
          },
          "metadata": {}
        },
        {
          "output_type": "stream",
          "name": "stdout",
          "text": [
            "[3 1]\n",
            "[4 1]\n"
          ]
        },
        {
          "output_type": "display_data",
          "data": {
            "text/plain": [
              "<IPython.core.display.Javascript object>"
            ],
            "application/javascript": [
              "window[\"e23eb022-ae55-11ed-95e2-0242ac1c000c\"] = google.colab.output.getActiveOutputArea();\n",
              "//# sourceURL=js_0ae0c87258"
            ]
          },
          "metadata": {}
        },
        {
          "output_type": "display_data",
          "data": {
            "text/plain": [
              "<IPython.core.display.Javascript object>"
            ],
            "application/javascript": [
              "window[\"e23f5a18-ae55-11ed-95e2-0242ac1c000c\"] = document.querySelector(\"#id48-0-0\");\n",
              "//# sourceURL=js_7aadf7a4d9"
            ]
          },
          "metadata": {}
        },
        {
          "output_type": "display_data",
          "data": {
            "text/plain": [
              "<IPython.core.display.Javascript object>"
            ],
            "application/javascript": [
              "window[\"e23fada6-ae55-11ed-95e2-0242ac1c000c\"] = google.colab.output.setActiveOutputArea(window[\"e23f5a18-ae55-11ed-95e2-0242ac1c000c\"]);\n",
              "//# sourceURL=js_83c6d1144b"
            ]
          },
          "metadata": {}
        },
        {
          "output_type": "display_data",
          "data": {
            "text/plain": [
              "<Figure size 432x288 with 1 Axes>"
            ],
            "image/png": "[encoded data removed]"
          },
          "metadata": {
            "needs_background": "light"
          }
        },
        {
          "output_type": "display_data",
          "data": {
            "text/plain": [
              "<IPython.core.display.Javascript object>"
            ],
            "application/javascript": [
              "window[\"e261b2fc-ae55-11ed-95e2-0242ac1c000c\"] = google.colab.output.setActiveOutputArea(window[\"e23eb022-ae55-11ed-95e2-0242ac1c000c\"]);\n",
              "//# sourceURL=js_24d9202dd8"
            ]
          },
          "metadata": {}
        },
        {
          "output_type": "stream",
          "name": "stdout",
          "text": [
            "[4 1]\n",
            "[4 2]\n"
          ]
        },
        {
          "output_type": "display_data",
          "data": {
            "text/plain": [
              "<IPython.core.display.Javascript object>"
            ],
            "application/javascript": [
              "window[\"e2fdb6fc-ae55-11ed-95e2-0242ac1c000c\"] = google.colab.output.getActiveOutputArea();\n",
              "//# sourceURL=js_6511161202"
            ]
          },
          "metadata": {}
        },
        {
          "output_type": "display_data",
          "data": {
            "text/plain": [
              "<IPython.core.display.Javascript object>"
            ],
            "application/javascript": [
              "window[\"e2fe0eea-ae55-11ed-95e2-0242ac1c000c\"] = document.querySelector(\"#id48-0-0\");\n",
              "//# sourceURL=js_cabaac1ca5"
            ]
          },
          "metadata": {}
        },
        {
          "output_type": "display_data",
          "data": {
            "text/plain": [
              "<IPython.core.display.Javascript object>"
            ],
            "application/javascript": [
              "window[\"e2feaa76-ae55-11ed-95e2-0242ac1c000c\"] = google.colab.output.setActiveOutputArea(window[\"e2fe0eea-ae55-11ed-95e2-0242ac1c000c\"]);\n",
              "//# sourceURL=js_2a5a201e39"
            ]
          },
          "metadata": {}
        },
        {
          "output_type": "display_data",
          "data": {
            "text/plain": [
              "<Figure size 432x288 with 1 Axes>"
            ],
            "image/png": "[encoded data removed]"
          },
          "metadata": {
            "needs_background": "light"
          }
        },
        {
          "output_type": "display_data",
          "data": {
            "text/plain": [
              "<IPython.core.display.Javascript object>"
            ],
            "application/javascript": [
              "window[\"e3157076-ae55-11ed-95e2-0242ac1c000c\"] = google.colab.output.setActiveOutputArea(window[\"e2fdb6fc-ae55-11ed-95e2-0242ac1c000c\"]);\n",
              "//# sourceURL=js_ca7a440888"
            ]
          },
          "metadata": {}
        },
        {
          "output_type": "stream",
          "name": "stdout",
          "text": [
            "[4 2]\n",
            "[4 3]\n"
          ]
        },
        {
          "output_type": "display_data",
          "data": {
            "text/plain": [
              "<IPython.core.display.Javascript object>"
            ],
            "application/javascript": [
              "window[\"e3b0afe6-ae55-11ed-95e2-0242ac1c000c\"] = google.colab.output.getActiveOutputArea();\n",
              "//# sourceURL=js_f1c0e7ff9e"
            ]
          },
          "metadata": {}
        },
        {
          "output_type": "display_data",
          "data": {
            "text/plain": [
              "<IPython.core.display.Javascript object>"
            ],
            "application/javascript": [
              "window[\"e3b14078-ae55-11ed-95e2-0242ac1c000c\"] = document.querySelector(\"#id48-0-0\");\n",
              "//# sourceURL=js_13fc95e484"
            ]
          },
          "metadata": {}
        },
        {
          "output_type": "display_data",
          "data": {
            "text/plain": [
              "<IPython.core.display.Javascript object>"
            ],
            "application/javascript": [
              "window[\"e3b19744-ae55-11ed-95e2-0242ac1c000c\"] = google.colab.output.setActiveOutputArea(window[\"e3b14078-ae55-11ed-95e2-0242ac1c000c\"]);\n",
              "//# sourceURL=js_c2bb398577"
            ]
          },
          "metadata": {}
        },
        {
          "output_type": "display_data",
          "data": {
            "text/plain": [
              "<Figure size 432x288 with 1 Axes>"
            ],
            "image/png": "[encoded data removed]"
          },
          "metadata": {
            "needs_background": "light"
          }
        },
        {
          "output_type": "display_data",
          "data": {
            "text/plain": [
              "<IPython.core.display.Javascript object>"
            ],
            "application/javascript": [
              "window[\"e3c9b536-ae55-11ed-95e2-0242ac1c000c\"] = google.colab.output.setActiveOutputArea(window[\"e3b0afe6-ae55-11ed-95e2-0242ac1c000c\"]);\n",
              "//# sourceURL=js_0bb91a39f2"
            ]
          },
          "metadata": {}
        }
      ]
    },
    {
      "cell_type": "code",
      "source": [
        "class GridEnvironmentstochastic(gym.Env):\n",
        "    metadata = { 'render.modes': [] }\n",
        "    \n",
        "    def __init__(self):\n",
        "\n",
        "        self.observation_space = spaces.Discrete(25)\n",
        "        self.action_space = spaces.Discrete(4)\n",
        "        self.max_timesteps = 15\n",
        "\n",
        "        self.timestep = 0\n",
        "        self.agent_pos = [0, 0]\n",
        "        self.goal_pos = [4, 4]\n",
        "        self.state = np.zeros((5,5))\n",
        "        self.state[tuple(self.agent_pos)] = 1\n",
        "        self.state[tuple(self.goal_pos)] = 0.5\n",
        "\n",
        "        \n",
        "    def reset(self, **kwargs):\n",
        "\n",
        "        self.state = np.zeros((5,5))\n",
        "        self.state[tuple(self.agent_pos)] = 1\n",
        "        self.state[tuple(self.goal_pos)] = 0.5\n",
        "        observation = self.state.flatten()\n",
        "\n",
        "        info = {}\n",
        "\n",
        "        return observation, info\n",
        "    \n",
        "    def step(self, action):\n",
        "\n",
        "        prev_agent_pos = self.agent_pos\n",
        "        print(prev_agent_pos)\n",
        "\n",
        "        if np.random.rand(1) > 95:\n",
        "          if action == 0:\n",
        "            action = np.random.choice([1,2,3])\n",
        "          elif action == 1:\n",
        "            action = np.random.choice([0,2,3])\n",
        "          elif action == 2:\n",
        "            action = np.random.choice([1,0,3])\n",
        "          elif action == 3:\n",
        "            action = np.random.choice([1,2,0])\n",
        "          else:\n",
        "            pass\n",
        "\n",
        "        if action == 0:\n",
        "          self.agent_pos[0] += 1\n",
        "        if action == 1:\n",
        "          self.agent_pos[0] -= 1\n",
        "        if action == 2:\n",
        "          self.agent_pos[1] += 1\n",
        "        if action == 3:\n",
        "          self.agent_pos[1] -= 1\n",
        "        \n",
        "        if np.array_equal(self.agent_pos,np.asarray((2,1))):\n",
        "          self.agent_pos = prev_agent_pos\n",
        "        elif np.array_equal(self.agent_pos,np.asarray((3,2))):\n",
        "          self.agent_pos = prev_agent_pos\n",
        "        elif np.array_equal(self.agent_pos,np.asarray((1,2))):\n",
        "          self.agent_pos = [0, 0]\n",
        "        else:\n",
        "          pass\n",
        "        print(self.agent_pos)\n",
        "\n",
        "\n",
        "        # Comment this to demonstrate the truncation condition.\n",
        "        self.agent_pos = np.clip(self.agent_pos, 0, 4)\n",
        "\n",
        "        self.state = np.zeros((5,5))\n",
        "        self.state[tuple(self.agent_pos)] = 1\n",
        "        self.state[tuple(self.goal_pos)] = 0.5\n",
        "        observation = self.state.flatten()\n",
        "        \n",
        "        reward = 0\n",
        "        if np.array_equal(self.agent_pos, self.goal_pos):\n",
        "          reward = 10\n",
        "        elif np.array_equal(self.agent_pos, np.asarray((4,3))):\n",
        "          reward = 5\n",
        "        elif np.array_equal(self.agent_pos, np.asarray((3,4))):\n",
        "          reward = 5\n",
        "        elif np.array_equal(self.agent_pos, np.asarray((4,0))):\n",
        "          reward = 2\n",
        "        elif np.array_equal(self.agent_pos, np.asarray((0,4))):\n",
        "          reward = 2\n",
        "        elif np.array_equal(self.agent_pos, np.asarray((2,0))):\n",
        "          reward = 1\n",
        "        elif np.array_equal(self.agent_pos, np.asarray((0,2))):\n",
        "          reward = 1\n",
        "        elif np.array_equal(self.agent_pos, np.asarray((1,1))):\n",
        "          reward = -1\n",
        "        elif np.array_equal(self.agent_pos, np.asarray((1,3))):\n",
        "          reward = -1\n",
        "        \n",
        "\n",
        "\n",
        "        self.timestep += 1\n",
        "\n",
        "        terminated = True if self.timestep >= self.max_timesteps else False\n",
        "        truncated = True if np.all((self.agent_pos >=0 ) & (self.agent_pos <= 4)) else False\n",
        "\n",
        "        info = {}\n",
        "        \n",
        "        return observation, reward, terminated, truncated, info\n",
        "        \n",
        "    def render(self):\n",
        "        plt.imshow(self.state)"
      ],
      "metadata": {
        "id": "aSv3hkDNo7uf"
      },
      "execution_count": 45,
      "outputs": []
    },
    {
      "cell_type": "code",
      "source": [
        "env = GridEnvironmentstochastic()\n",
        "agent = RandomAgent(env)\n",
        "\n",
        "obs, info = env.reset()\n",
        "terminated, truncated = False, False\n",
        "\n",
        "output_grid = widgets.Grid(1, 1)\n",
        "with output_grid.output_to(0, 0):\n",
        "  env.render()\n",
        "\n",
        "while not terminated:\n",
        "  action = agent.step(obs)\n",
        "  obs, reward, terminated, truncated, info = env.step(action)\n",
        "  with output_grid.output_to(0, 0):\n",
        "    env.render()\n",
        "    plt.show()\n",
        "  time.sleep(1)"
      ],
      "metadata": {
        "colab": {
          "base_uri": "https://localhost:8080/",
          "height": 1000
        },
        "id": "3D0ZoJYasLc-",
        "outputId": "78d7d11b-3020-49fb-9bab-ffc8236ac0f1"
      },
      "execution_count": 46,
      "outputs": [
        {
          "output_type": "display_data",
          "data": {
            "text/plain": [
              "<IPython.core.display.HTML object>"
            ],
            "text/html": [
              "<style>\n",
              "       table#id50, #id50 > tbody > tr > th, #id50 > tbody > tr > td {\n",
              "         border: 1px solid lightgray;\n",
              "         border-collapse:collapse;\n",
              "         \n",
              "        }</style>"
            ]
          },
          "metadata": {}
        },
        {
          "output_type": "display_data",
          "data": {
            "text/plain": [
              "<IPython.core.display.HTML object>"
            ],
            "text/html": [
              "<table id=id50><tr><td id=id50-0-0></td></tr></table>"
            ]
          },
          "metadata": {}
        },
        {
          "output_type": "display_data",
          "data": {
            "text/plain": [
              "<IPython.core.display.Javascript object>"
            ],
            "application/javascript": [
              "window[\"d6c65fbe-ae56-11ed-95e2-0242ac1c000c\"] = google.colab.output.getActiveOutputArea();\n",
              "//# sourceURL=js_c2db3039a7"
            ]
          },
          "metadata": {}
        },
        {
          "output_type": "display_data",
          "data": {
            "text/plain": [
              "<IPython.core.display.Javascript object>"
            ],
            "application/javascript": [
              "window[\"d6c6c2d8-ae56-11ed-95e2-0242ac1c000c\"] = document.querySelector(\"#id50-0-0\");\n",
              "//# sourceURL=js_1e14f03dcd"
            ]
          },
          "metadata": {}
        },
        {
          "output_type": "display_data",
          "data": {
            "text/plain": [
              "<IPython.core.display.Javascript object>"
            ],
            "application/javascript": [
              "window[\"d6c71e22-ae56-11ed-95e2-0242ac1c000c\"] = google.colab.output.setActiveOutputArea(window[\"d6c6c2d8-ae56-11ed-95e2-0242ac1c000c\"]);\n",
              "//# sourceURL=js_987762b53d"
            ]
          },
          "metadata": {}
        },
        {
          "output_type": "display_data",
          "data": {
            "text/plain": [
              "<Figure size 432x288 with 1 Axes>"
            ],
            "image/png": "[encoded data removed]"
          },
          "metadata": {
            "needs_background": "light"
          }
        },
        {
          "output_type": "display_data",
          "data": {
            "text/plain": [
              "<IPython.core.display.Javascript object>"
            ],
            "application/javascript": [
              "window[\"d7131c46-ae56-11ed-95e2-0242ac1c000c\"] = google.colab.output.setActiveOutputArea(window[\"d6c65fbe-ae56-11ed-95e2-0242ac1c000c\"]);\n",
              "//# sourceURL=js_b72dd1a7db"
            ]
          },
          "metadata": {}
        },
        {
          "output_type": "stream",
          "name": "stdout",
          "text": [
            "[0, 0]\n",
            "[1, 0]\n"
          ]
        },
        {
          "output_type": "display_data",
          "data": {
            "text/plain": [
              "<IPython.core.display.Javascript object>"
            ],
            "application/javascript": [
              "window[\"d71b2b7a-ae56-11ed-95e2-0242ac1c000c\"] = google.colab.output.getActiveOutputArea();\n",
              "//# sourceURL=js_e859bac9dd"
            ]
          },
          "metadata": {}
        },
        {
          "output_type": "display_data",
          "data": {
            "text/plain": [
              "<IPython.core.display.Javascript object>"
            ],
            "application/javascript": [
              "window[\"d71bfa96-ae56-11ed-95e2-0242ac1c000c\"] = document.querySelector(\"#id50-0-0\");\n",
              "//# sourceURL=js_c3af242ac6"
            ]
          },
          "metadata": {}
        },
        {
          "output_type": "display_data",
          "data": {
            "text/plain": [
              "<IPython.core.display.Javascript object>"
            ],
            "application/javascript": [
              "window[\"d71cc62e-ae56-11ed-95e2-0242ac1c000c\"] = google.colab.output.setActiveOutputArea(window[\"d71bfa96-ae56-11ed-95e2-0242ac1c000c\"]);\n",
              "//# sourceURL=js_8ec99828ec"
            ]
          },
          "metadata": {}
        },
        {
          "output_type": "display_data",
          "data": {
            "text/plain": [
              "<Figure size 432x288 with 1 Axes>"
            ],
            "image/png": "[encoded data removed]"
          },
          "metadata": {
            "needs_background": "light"
          }
        },
        {
          "output_type": "display_data",
          "data": {
            "text/plain": [
              "<IPython.core.display.Javascript object>"
            ],
            "application/javascript": [
              "window[\"d74681bc-ae56-11ed-95e2-0242ac1c000c\"] = google.colab.output.setActiveOutputArea(window[\"d71b2b7a-ae56-11ed-95e2-0242ac1c000c\"]);\n",
              "//# sourceURL=js_5fefffe3e2"
            ]
          },
          "metadata": {}
        },
        {
          "output_type": "stream",
          "name": "stdout",
          "text": [
            "[1 0]\n",
            "[0 0]\n"
          ]
        },
        {
          "output_type": "display_data",
          "data": {
            "text/plain": [
              "<IPython.core.display.Javascript object>"
            ],
            "application/javascript": [
              "window[\"d7e3f35c-ae56-11ed-95e2-0242ac1c000c\"] = google.colab.output.getActiveOutputArea();\n",
              "//# sourceURL=js_429c12f9d6"
            ]
          },
          "metadata": {}
        },
        {
          "output_type": "display_data",
          "data": {
            "text/plain": [
              "<IPython.core.display.Javascript object>"
            ],
            "application/javascript": [
              "window[\"d7e45144-ae56-11ed-95e2-0242ac1c000c\"] = document.querySelector(\"#id50-0-0\");\n",
              "//# sourceURL=js_c1a0dcacf8"
            ]
          },
          "metadata": {}
        },
        {
          "output_type": "display_data",
          "data": {
            "text/plain": [
              "<IPython.core.display.Javascript object>"
            ],
            "application/javascript": [
              "window[\"d7e50e36-ae56-11ed-95e2-0242ac1c000c\"] = google.colab.output.setActiveOutputArea(window[\"d7e45144-ae56-11ed-95e2-0242ac1c000c\"]);\n",
              "//# sourceURL=js_1d8ea262c7"
            ]
          },
          "metadata": {}
        },
        {
          "output_type": "display_data",
          "data": {
            "text/plain": [
              "<Figure size 432x288 with 1 Axes>"
            ],
            "image/png": "[encoded data removed]"
          },
          "metadata": {
            "needs_background": "light"
          }
        },
        {
          "output_type": "display_data",
          "data": {
            "text/plain": [
              "<IPython.core.display.Javascript object>"
            ],
            "application/javascript": [
              "window[\"d7ffaa0c-ae56-11ed-95e2-0242ac1c000c\"] = google.colab.output.setActiveOutputArea(window[\"d7e3f35c-ae56-11ed-95e2-0242ac1c000c\"]);\n",
              "//# sourceURL=js_e5c3a93184"
            ]
          },
          "metadata": {}
        },
        {
          "output_type": "stream",
          "name": "stdout",
          "text": [
            "[0 0]\n",
            "[0 1]\n"
          ]
        },
        {
          "output_type": "display_data",
          "data": {
            "text/plain": [
              "<IPython.core.display.Javascript object>"
            ],
            "application/javascript": [
              "window[\"d89c2544-ae56-11ed-95e2-0242ac1c000c\"] = google.colab.output.getActiveOutputArea();\n",
              "//# sourceURL=js_29193964f5"
            ]
          },
          "metadata": {}
        },
        {
          "output_type": "display_data",
          "data": {
            "text/plain": [
              "<IPython.core.display.Javascript object>"
            ],
            "application/javascript": [
              "window[\"d89c79ea-ae56-11ed-95e2-0242ac1c000c\"] = document.querySelector(\"#id50-0-0\");\n",
              "//# sourceURL=js_b4b6453c3d"
            ]
          },
          "metadata": {}
        },
        {
          "output_type": "display_data",
          "data": {
            "text/plain": [
              "<IPython.core.display.Javascript object>"
            ],
            "application/javascript": [
              "window[\"d89ce48e-ae56-11ed-95e2-0242ac1c000c\"] = google.colab.output.setActiveOutputArea(window[\"d89c79ea-ae56-11ed-95e2-0242ac1c000c\"]);\n",
              "//# sourceURL=js_39da5f2754"
            ]
          },
          "metadata": {}
        },
        {
          "output_type": "display_data",
          "data": {
            "text/plain": [
              "<Figure size 432x288 with 1 Axes>"
            ],
            "image/png": "[encoded data removed]"
          },
          "metadata": {
            "needs_background": "light"
          }
        },
        {
          "output_type": "display_data",
          "data": {
            "text/plain": [
              "<IPython.core.display.Javascript object>"
            ],
            "application/javascript": [
              "window[\"d8b34026-ae56-11ed-95e2-0242ac1c000c\"] = google.colab.output.setActiveOutputArea(window[\"d89c2544-ae56-11ed-95e2-0242ac1c000c\"]);\n",
              "//# sourceURL=js_3fd7fc8954"
            ]
          },
          "metadata": {}
        },
        {
          "output_type": "stream",
          "name": "stdout",
          "text": [
            "[0 1]\n",
            "[-1  1]\n"
          ]
        },
        {
          "output_type": "display_data",
          "data": {
            "text/plain": [
              "<IPython.core.display.Javascript object>"
            ],
            "application/javascript": [
              "window[\"d94e8f90-ae56-11ed-95e2-0242ac1c000c\"] = google.colab.output.getActiveOutputArea();\n",
              "//# sourceURL=js_76b91f406b"
            ]
          },
          "metadata": {}
        },
        {
          "output_type": "display_data",
          "data": {
            "text/plain": [
              "<IPython.core.display.Javascript object>"
            ],
            "application/javascript": [
              "window[\"d94f3fe4-ae56-11ed-95e2-0242ac1c000c\"] = document.querySelector(\"#id50-0-0\");\n",
              "//# sourceURL=js_f6c497933e"
            ]
          },
          "metadata": {}
        },
        {
          "output_type": "display_data",
          "data": {
            "text/plain": [
              "<IPython.core.display.Javascript object>"
            ],
            "application/javascript": [
              "window[\"d94fd076-ae56-11ed-95e2-0242ac1c000c\"] = google.colab.output.setActiveOutputArea(window[\"d94f3fe4-ae56-11ed-95e2-0242ac1c000c\"]);\n",
              "//# sourceURL=js_201681ecd4"
            ]
          },
          "metadata": {}
        },
        {
          "output_type": "display_data",
          "data": {
            "text/plain": [
              "<Figure size 432x288 with 1 Axes>"
            ],
            "image/png": "[encoded data removed]"
          },
          "metadata": {
            "needs_background": "light"
          }
        },
        {
          "output_type": "display_data",
          "data": {
            "text/plain": [
              "<IPython.core.display.Javascript object>"
            ],
            "application/javascript": [
              "window[\"d9741698-ae56-11ed-95e2-0242ac1c000c\"] = google.colab.output.setActiveOutputArea(window[\"d94e8f90-ae56-11ed-95e2-0242ac1c000c\"]);\n",
              "//# sourceURL=js_b418333368"
            ]
          },
          "metadata": {}
        },
        {
          "output_type": "stream",
          "name": "stdout",
          "text": [
            "[0 1]\n",
            "[0 0]\n"
          ]
        },
        {
          "output_type": "display_data",
          "data": {
            "text/plain": [
              "<IPython.core.display.Javascript object>"
            ],
            "application/javascript": [
              "window[\"da1040fe-ae56-11ed-95e2-0242ac1c000c\"] = google.colab.output.getActiveOutputArea();\n",
              "//# sourceURL=js_b4211de739"
            ]
          },
          "metadata": {}
        },
        {
          "output_type": "display_data",
          "data": {
            "text/plain": [
              "<IPython.core.display.Javascript object>"
            ],
            "application/javascript": [
              "window[\"da10eb3a-ae56-11ed-95e2-0242ac1c000c\"] = document.querySelector(\"#id50-0-0\");\n",
              "//# sourceURL=js_cef9052bc4"
            ]
          },
          "metadata": {}
        },
        {
          "output_type": "display_data",
          "data": {
            "text/plain": [
              "<IPython.core.display.Javascript object>"
            ],
            "application/javascript": [
              "window[\"da119e54-ae56-11ed-95e2-0242ac1c000c\"] = google.colab.output.setActiveOutputArea(window[\"da10eb3a-ae56-11ed-95e2-0242ac1c000c\"]);\n",
              "//# sourceURL=js_c983c31f5f"
            ]
          },
          "metadata": {}
        },
        {
          "output_type": "display_data",
          "data": {
            "text/plain": [
              "<Figure size 432x288 with 1 Axes>"
            ],
            "image/png": "[encoded data removed]"
          },
          "metadata": {
            "needs_background": "light"
          }
        },
        {
          "output_type": "display_data",
          "data": {
            "text/plain": [
              "<IPython.core.display.Javascript object>"
            ],
            "application/javascript": [
              "window[\"da2eb7b4-ae56-11ed-95e2-0242ac1c000c\"] = google.colab.output.setActiveOutputArea(window[\"da1040fe-ae56-11ed-95e2-0242ac1c000c\"]);\n",
              "//# sourceURL=js_3ae3ec1a09"
            ]
          },
          "metadata": {}
        },
        {
          "output_type": "stream",
          "name": "stdout",
          "text": [
            "[0 0]\n",
            "[1 0]\n"
          ]
        },
        {
          "output_type": "display_data",
          "data": {
            "text/plain": [
              "<IPython.core.display.Javascript object>"
            ],
            "application/javascript": [
              "window[\"dacb61d6-ae56-11ed-95e2-0242ac1c000c\"] = google.colab.output.getActiveOutputArea();\n",
              "//# sourceURL=js_021fea50c1"
            ]
          },
          "metadata": {}
        },
        {
          "output_type": "display_data",
          "data": {
            "text/plain": [
              "<IPython.core.display.Javascript object>"
            ],
            "application/javascript": [
              "window[\"dacbd760-ae56-11ed-95e2-0242ac1c000c\"] = document.querySelector(\"#id50-0-0\");\n",
              "//# sourceURL=js_bd3ef358a3"
            ]
          },
          "metadata": {}
        },
        {
          "output_type": "display_data",
          "data": {
            "text/plain": [
              "<IPython.core.display.Javascript object>"
            ],
            "application/javascript": [
              "window[\"daccac6c-ae56-11ed-95e2-0242ac1c000c\"] = google.colab.output.setActiveOutputArea(window[\"dacbd760-ae56-11ed-95e2-0242ac1c000c\"]);\n",
              "//# sourceURL=js_79bbd205be"
            ]
          },
          "metadata": {}
        },
        {
          "output_type": "display_data",
          "data": {
            "text/plain": [
              "<Figure size 432x288 with 1 Axes>"
            ],
            "image/png": "[encoded data removed]"
          },
          "metadata": {
            "needs_background": "light"
          }
        },
        {
          "output_type": "display_data",
          "data": {
            "text/plain": [
              "<IPython.core.display.Javascript object>"
            ],
            "application/javascript": [
              "window[\"dae25788-ae56-11ed-95e2-0242ac1c000c\"] = google.colab.output.setActiveOutputArea(window[\"dacb61d6-ae56-11ed-95e2-0242ac1c000c\"]);\n",
              "//# sourceURL=js_c6932de890"
            ]
          },
          "metadata": {}
        },
        {
          "output_type": "stream",
          "name": "stdout",
          "text": [
            "[1 0]\n",
            "[0 0]\n"
          ]
        },
        {
          "output_type": "display_data",
          "data": {
            "text/plain": [
              "<IPython.core.display.Javascript object>"
            ],
            "application/javascript": [
              "window[\"db800ab4-ae56-11ed-95e2-0242ac1c000c\"] = google.colab.output.getActiveOutputArea();\n",
              "//# sourceURL=js_219ac30dde"
            ]
          },
          "metadata": {}
        },
        {
          "output_type": "display_data",
          "data": {
            "text/plain": [
              "<IPython.core.display.Javascript object>"
            ],
            "application/javascript": [
              "window[\"db811530-ae56-11ed-95e2-0242ac1c000c\"] = document.querySelector(\"#id50-0-0\");\n",
              "//# sourceURL=js_e0cd9ddd43"
            ]
          },
          "metadata": {}
        },
        {
          "output_type": "display_data",
          "data": {
            "text/plain": [
              "<IPython.core.display.Javascript object>"
            ],
            "application/javascript": [
              "window[\"db817232-ae56-11ed-95e2-0242ac1c000c\"] = google.colab.output.setActiveOutputArea(window[\"db811530-ae56-11ed-95e2-0242ac1c000c\"]);\n",
              "//# sourceURL=js_c888925b85"
            ]
          },
          "metadata": {}
        },
        {
          "output_type": "display_data",
          "data": {
            "text/plain": [
              "<Figure size 432x288 with 1 Axes>"
            ],
            "image/png": "[encoded data removed]"
          },
          "metadata": {
            "needs_background": "light"
          }
        },
        {
          "output_type": "display_data",
          "data": {
            "text/plain": [
              "<IPython.core.display.Javascript object>"
            ],
            "application/javascript": [
              "window[\"dba539ba-ae56-11ed-95e2-0242ac1c000c\"] = google.colab.output.setActiveOutputArea(window[\"db800ab4-ae56-11ed-95e2-0242ac1c000c\"]);\n",
              "//# sourceURL=js_01a4a81535"
            ]
          },
          "metadata": {}
        },
        {
          "output_type": "stream",
          "name": "stdout",
          "text": [
            "[0 0]\n",
            "[ 0 -1]\n"
          ]
        },
        {
          "output_type": "display_data",
          "data": {
            "text/plain": [
              "<IPython.core.display.Javascript object>"
            ],
            "application/javascript": [
              "window[\"dc4247b4-ae56-11ed-95e2-0242ac1c000c\"] = google.colab.output.getActiveOutputArea();\n",
              "//# sourceURL=js_b10df46802"
            ]
          },
          "metadata": {}
        },
        {
          "output_type": "display_data",
          "data": {
            "text/plain": [
              "<IPython.core.display.Javascript object>"
            ],
            "application/javascript": [
              "window[\"dc429d36-ae56-11ed-95e2-0242ac1c000c\"] = document.querySelector(\"#id50-0-0\");\n",
              "//# sourceURL=js_09cb05b023"
            ]
          },
          "metadata": {}
        },
        {
          "output_type": "display_data",
          "data": {
            "text/plain": [
              "<IPython.core.display.Javascript object>"
            ],
            "application/javascript": [
              "window[\"dc436aae-ae56-11ed-95e2-0242ac1c000c\"] = google.colab.output.setActiveOutputArea(window[\"dc429d36-ae56-11ed-95e2-0242ac1c000c\"]);\n",
              "//# sourceURL=js_65820b3c77"
            ]
          },
          "metadata": {}
        },
        {
          "output_type": "display_data",
          "data": {
            "text/plain": [
              "<Figure size 432x288 with 1 Axes>"
            ],
            "image/png": "[encoded data removed]"
          },
          "metadata": {
            "needs_background": "light"
          }
        },
        {
          "output_type": "display_data",
          "data": {
            "text/plain": [
              "<IPython.core.display.Javascript object>"
            ],
            "application/javascript": [
              "window[\"dc588a92-ae56-11ed-95e2-0242ac1c000c\"] = google.colab.output.setActiveOutputArea(window[\"dc4247b4-ae56-11ed-95e2-0242ac1c000c\"]);\n",
              "//# sourceURL=js_2060699c4a"
            ]
          },
          "metadata": {}
        },
        {
          "output_type": "stream",
          "name": "stdout",
          "text": [
            "[0 0]\n",
            "[0 1]\n"
          ]
        },
        {
          "output_type": "display_data",
          "data": {
            "text/plain": [
              "<IPython.core.display.Javascript object>"
            ],
            "application/javascript": [
              "window[\"dcf42aa6-ae56-11ed-95e2-0242ac1c000c\"] = google.colab.output.getActiveOutputArea();\n",
              "//# sourceURL=js_914bdae2d8"
            ]
          },
          "metadata": {}
        },
        {
          "output_type": "display_data",
          "data": {
            "text/plain": [
              "<IPython.core.display.Javascript object>"
            ],
            "application/javascript": [
              "window[\"dcf4a7b0-ae56-11ed-95e2-0242ac1c000c\"] = document.querySelector(\"#id50-0-0\");\n",
              "//# sourceURL=js_1606760962"
            ]
          },
          "metadata": {}
        },
        {
          "output_type": "display_data",
          "data": {
            "text/plain": [
              "<IPython.core.display.Javascript object>"
            ],
            "application/javascript": [
              "window[\"dcf502c8-ae56-11ed-95e2-0242ac1c000c\"] = google.colab.output.setActiveOutputArea(window[\"dcf4a7b0-ae56-11ed-95e2-0242ac1c000c\"]);\n",
              "//# sourceURL=js_82fcf3e110"
            ]
          },
          "metadata": {}
        },
        {
          "output_type": "display_data",
          "data": {
            "text/plain": [
              "<Figure size 432x288 with 1 Axes>"
            ],
            "image/png": "[encoded data removed]"
          },
          "metadata": {
            "needs_background": "light"
          }
        },
        {
          "output_type": "display_data",
          "data": {
            "text/plain": [
              "<IPython.core.display.Javascript object>"
            ],
            "application/javascript": [
              "window[\"dd0df846-ae56-11ed-95e2-0242ac1c000c\"] = google.colab.output.setActiveOutputArea(window[\"dcf42aa6-ae56-11ed-95e2-0242ac1c000c\"]);\n",
              "//# sourceURL=js_9f950a600f"
            ]
          },
          "metadata": {}
        },
        {
          "output_type": "stream",
          "name": "stdout",
          "text": [
            "[0 1]\n",
            "[0 0]\n"
          ]
        },
        {
          "output_type": "display_data",
          "data": {
            "text/plain": [
              "<IPython.core.display.Javascript object>"
            ],
            "application/javascript": [
              "window[\"dda963e4-ae56-11ed-95e2-0242ac1c000c\"] = google.colab.output.getActiveOutputArea();\n",
              "//# sourceURL=js_edde26c08b"
            ]
          },
          "metadata": {}
        },
        {
          "output_type": "display_data",
          "data": {
            "text/plain": [
              "<IPython.core.display.Javascript object>"
            ],
            "application/javascript": [
              "window[\"dda9b8ee-ae56-11ed-95e2-0242ac1c000c\"] = document.querySelector(\"#id50-0-0\");\n",
              "//# sourceURL=js_7758f15482"
            ]
          },
          "metadata": {}
        },
        {
          "output_type": "display_data",
          "data": {
            "text/plain": [
              "<IPython.core.display.Javascript object>"
            ],
            "application/javascript": [
              "window[\"dda9f9bc-ae56-11ed-95e2-0242ac1c000c\"] = google.colab.output.setActiveOutputArea(window[\"dda9b8ee-ae56-11ed-95e2-0242ac1c000c\"]);\n",
              "//# sourceURL=js_3ac8f12cfe"
            ]
          },
          "metadata": {}
        },
        {
          "output_type": "display_data",
          "data": {
            "text/plain": [
              "<Figure size 432x288 with 1 Axes>"
            ],
            "image/png": "[encoded data removed]"
          },
          "metadata": {
            "needs_background": "light"
          }
        },
        {
          "output_type": "display_data",
          "data": {
            "text/plain": [
              "<IPython.core.display.Javascript object>"
            ],
            "application/javascript": [
              "window[\"ddc085c4-ae56-11ed-95e2-0242ac1c000c\"] = google.colab.output.setActiveOutputArea(window[\"dda963e4-ae56-11ed-95e2-0242ac1c000c\"]);\n",
              "//# sourceURL=js_54d8cafe8a"
            ]
          },
          "metadata": {}
        },
        {
          "output_type": "stream",
          "name": "stdout",
          "text": [
            "[0 0]\n",
            "[0 1]\n"
          ]
        },
        {
          "output_type": "display_data",
          "data": {
            "text/plain": [
              "<IPython.core.display.Javascript object>"
            ],
            "application/javascript": [
              "window[\"de5c44aa-ae56-11ed-95e2-0242ac1c000c\"] = google.colab.output.getActiveOutputArea();\n",
              "//# sourceURL=js_af9456c98c"
            ]
          },
          "metadata": {}
        },
        {
          "output_type": "display_data",
          "data": {
            "text/plain": [
              "<IPython.core.display.Javascript object>"
            ],
            "application/javascript": [
              "window[\"de5c99fa-ae56-11ed-95e2-0242ac1c000c\"] = document.querySelector(\"#id50-0-0\");\n",
              "//# sourceURL=js_0a2e7a6b7d"
            ]
          },
          "metadata": {}
        },
        {
          "output_type": "display_data",
          "data": {
            "text/plain": [
              "<IPython.core.display.Javascript object>"
            ],
            "application/javascript": [
              "window[\"de5d3c5c-ae56-11ed-95e2-0242ac1c000c\"] = google.colab.output.setActiveOutputArea(window[\"de5c99fa-ae56-11ed-95e2-0242ac1c000c\"]);\n",
              "//# sourceURL=js_4965b44fbc"
            ]
          },
          "metadata": {}
        },
        {
          "output_type": "display_data",
          "data": {
            "text/plain": [
              "<Figure size 432x288 with 1 Axes>"
            ],
            "image/png": "[encoded data removed]"
          },
          "metadata": {
            "needs_background": "light"
          }
        },
        {
          "output_type": "display_data",
          "data": {
            "text/plain": [
              "<IPython.core.display.Javascript object>"
            ],
            "application/javascript": [
              "window[\"de7467a6-ae56-11ed-95e2-0242ac1c000c\"] = google.colab.output.setActiveOutputArea(window[\"de5c44aa-ae56-11ed-95e2-0242ac1c000c\"]);\n",
              "//# sourceURL=js_5e11ab169d"
            ]
          },
          "metadata": {}
        },
        {
          "output_type": "stream",
          "name": "stdout",
          "text": [
            "[0 1]\n",
            "[0 2]\n"
          ]
        },
        {
          "output_type": "display_data",
          "data": {
            "text/plain": [
              "<IPython.core.display.Javascript object>"
            ],
            "application/javascript": [
              "window[\"df0fdf74-ae56-11ed-95e2-0242ac1c000c\"] = google.colab.output.getActiveOutputArea();\n",
              "//# sourceURL=js_595d627020"
            ]
          },
          "metadata": {}
        },
        {
          "output_type": "display_data",
          "data": {
            "text/plain": [
              "<IPython.core.display.Javascript object>"
            ],
            "application/javascript": [
              "window[\"df103000-ae56-11ed-95e2-0242ac1c000c\"] = document.querySelector(\"#id50-0-0\");\n",
              "//# sourceURL=js_285493cc16"
            ]
          },
          "metadata": {}
        },
        {
          "output_type": "display_data",
          "data": {
            "text/plain": [
              "<IPython.core.display.Javascript object>"
            ],
            "application/javascript": [
              "window[\"df1086e0-ae56-11ed-95e2-0242ac1c000c\"] = google.colab.output.setActiveOutputArea(window[\"df103000-ae56-11ed-95e2-0242ac1c000c\"]);\n",
              "//# sourceURL=js_1a733bff81"
            ]
          },
          "metadata": {}
        },
        {
          "output_type": "display_data",
          "data": {
            "text/plain": [
              "<Figure size 432x288 with 1 Axes>"
            ],
            "image/png": "[encoded data removed]"
          },
          "metadata": {
            "needs_background": "light"
          }
        },
        {
          "output_type": "display_data",
          "data": {
            "text/plain": [
              "<IPython.core.display.Javascript object>"
            ],
            "application/javascript": [
              "window[\"df272792-ae56-11ed-95e2-0242ac1c000c\"] = google.colab.output.setActiveOutputArea(window[\"df0fdf74-ae56-11ed-95e2-0242ac1c000c\"]);\n",
              "//# sourceURL=js_adf8f4f60d"
            ]
          },
          "metadata": {}
        },
        {
          "output_type": "stream",
          "name": "stdout",
          "text": [
            "[0 2]\n",
            "[0, 0]\n"
          ]
        },
        {
          "output_type": "display_data",
          "data": {
            "text/plain": [
              "<IPython.core.display.Javascript object>"
            ],
            "application/javascript": [
              "window[\"dfc28084-ae56-11ed-95e2-0242ac1c000c\"] = google.colab.output.getActiveOutputArea();\n",
              "//# sourceURL=js_2208a0ab3c"
            ]
          },
          "metadata": {}
        },
        {
          "output_type": "display_data",
          "data": {
            "text/plain": [
              "<IPython.core.display.Javascript object>"
            ],
            "application/javascript": [
              "window[\"dfc2cea4-ae56-11ed-95e2-0242ac1c000c\"] = document.querySelector(\"#id50-0-0\");\n",
              "//# sourceURL=js_b8b18ae745"
            ]
          },
          "metadata": {}
        },
        {
          "output_type": "display_data",
          "data": {
            "text/plain": [
              "<IPython.core.display.Javascript object>"
            ],
            "application/javascript": [
              "window[\"dfc3357e-ae56-11ed-95e2-0242ac1c000c\"] = google.colab.output.setActiveOutputArea(window[\"dfc2cea4-ae56-11ed-95e2-0242ac1c000c\"]);\n",
              "//# sourceURL=js_3e7355dbfa"
            ]
          },
          "metadata": {}
        },
        {
          "output_type": "display_data",
          "data": {
            "text/plain": [
              "<Figure size 432x288 with 1 Axes>"
            ],
            "image/png": "[encoded data removed]"
          },
          "metadata": {
            "needs_background": "light"
          }
        },
        {
          "output_type": "display_data",
          "data": {
            "text/plain": [
              "<IPython.core.display.Javascript object>"
            ],
            "application/javascript": [
              "window[\"dfdb6b26-ae56-11ed-95e2-0242ac1c000c\"] = google.colab.output.setActiveOutputArea(window[\"dfc28084-ae56-11ed-95e2-0242ac1c000c\"]);\n",
              "//# sourceURL=js_1ec36adc33"
            ]
          },
          "metadata": {}
        },
        {
          "output_type": "stream",
          "name": "stdout",
          "text": [
            "[0 0]\n",
            "[1 0]\n"
          ]
        },
        {
          "output_type": "display_data",
          "data": {
            "text/plain": [
              "<IPython.core.display.Javascript object>"
            ],
            "application/javascript": [
              "window[\"e0771760-ae56-11ed-95e2-0242ac1c000c\"] = google.colab.output.getActiveOutputArea();\n",
              "//# sourceURL=js_6f6b56c0a6"
            ]
          },
          "metadata": {}
        },
        {
          "output_type": "display_data",
          "data": {
            "text/plain": [
              "<IPython.core.display.Javascript object>"
            ],
            "application/javascript": [
              "window[\"e0786a02-ae56-11ed-95e2-0242ac1c000c\"] = document.querySelector(\"#id50-0-0\");\n",
              "//# sourceURL=js_034bca8807"
            ]
          },
          "metadata": {}
        },
        {
          "output_type": "display_data",
          "data": {
            "text/plain": [
              "<IPython.core.display.Javascript object>"
            ],
            "application/javascript": [
              "window[\"e07901ec-ae56-11ed-95e2-0242ac1c000c\"] = google.colab.output.setActiveOutputArea(window[\"e0786a02-ae56-11ed-95e2-0242ac1c000c\"]);\n",
              "//# sourceURL=js_e4af178184"
            ]
          },
          "metadata": {}
        },
        {
          "output_type": "display_data",
          "data": {
            "text/plain": [
              "<Figure size 432x288 with 1 Axes>"
            ],
            "image/png": "[encoded data removed]"
          },
          "metadata": {
            "needs_background": "light"
          }
        },
        {
          "output_type": "display_data",
          "data": {
            "text/plain": [
              "<IPython.core.display.Javascript object>"
            ],
            "application/javascript": [
              "window[\"e093383c-ae56-11ed-95e2-0242ac1c000c\"] = google.colab.output.setActiveOutputArea(window[\"e0771760-ae56-11ed-95e2-0242ac1c000c\"]);\n",
              "//# sourceURL=js_2f2b46c1ae"
            ]
          },
          "metadata": {}
        },
        {
          "output_type": "stream",
          "name": "stdout",
          "text": [
            "[1 0]\n",
            "[1 1]\n"
          ]
        },
        {
          "output_type": "display_data",
          "data": {
            "text/plain": [
              "<IPython.core.display.Javascript object>"
            ],
            "application/javascript": [
              "window[\"e130ca3e-ae56-11ed-95e2-0242ac1c000c\"] = google.colab.output.getActiveOutputArea();\n",
              "//# sourceURL=js_cebaf1e0e2"
            ]
          },
          "metadata": {}
        },
        {
          "output_type": "display_data",
          "data": {
            "text/plain": [
              "<IPython.core.display.Javascript object>"
            ],
            "application/javascript": [
              "window[\"e13196f8-ae56-11ed-95e2-0242ac1c000c\"] = document.querySelector(\"#id50-0-0\");\n",
              "//# sourceURL=js_874fa1f066"
            ]
          },
          "metadata": {}
        },
        {
          "output_type": "display_data",
          "data": {
            "text/plain": [
              "<IPython.core.display.Javascript object>"
            ],
            "application/javascript": [
              "window[\"e1322ece-ae56-11ed-95e2-0242ac1c000c\"] = google.colab.output.setActiveOutputArea(window[\"e13196f8-ae56-11ed-95e2-0242ac1c000c\"]);\n",
              "//# sourceURL=js_78fe6d6755"
            ]
          },
          "metadata": {}
        },
        {
          "output_type": "display_data",
          "data": {
            "text/plain": [
              "<Figure size 432x288 with 1 Axes>"
            ],
            "image/png": "[encoded data removed]"
          },
          "metadata": {
            "needs_background": "light"
          }
        },
        {
          "output_type": "display_data",
          "data": {
            "text/plain": [
              "<IPython.core.display.Javascript object>"
            ],
            "application/javascript": [
              "window[\"e14829f4-ae56-11ed-95e2-0242ac1c000c\"] = google.colab.output.setActiveOutputArea(window[\"e130ca3e-ae56-11ed-95e2-0242ac1c000c\"]);\n",
              "//# sourceURL=js_a385a19f37"
            ]
          },
          "metadata": {}
        }
      ]
    },
    {
      "cell_type": "code",
      "source": [],
      "metadata": {
        "id": "dyGATQdPsQu4"
      },
      "execution_count": null,
      "outputs": []
    }
  ]
}